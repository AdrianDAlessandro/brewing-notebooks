{
 "cells": [
  {
   "cell_type": "markdown",
   "metadata": {},
   "source": [
    "# Saazon\n",
    "A variation on the Crystal Cascade using saison yeast and noble hops"
   ]
  },
  {
   "cell_type": "markdown",
   "metadata": {},
   "source": [
    "## Recipe\n",
    "\n",
    "### Malt Bill:\n",
    " - Viking Pilsner (3 - 5 EBC)\n",
    " - Viking Pale Ale Malt (4 - 6 EBC)\n",
    " - Crystal Malt (40 - 60 EBC)\n",
    "\n",
    "### Hops:\n",
    " - Hallertauer (4.4% Alpha Acids)\n",
    " - Saaz (2.8% Alpha Acids)\n",
    "\n",
    "### Yeast:\n",
    " - SafAle BE-134 Saison Yeast"
   ]
  },
  {
   "cell_type": "code",
   "execution_count": 1,
   "metadata": {},
   "outputs": [],
   "source": [
    "from ipywidgets import interact, fixed\n",
    "import ipywidgets as widgets\n",
    "import math"
   ]
  },
  {
   "cell_type": "code",
   "execution_count": 2,
   "metadata": {
    "scrolled": true
   },
   "outputs": [
    {
     "data": {
      "application/vnd.jupyter.widget-view+json": {
       "model_id": "5a1ab4e10e9a4a24a88853eecfcba769",
       "version_major": 2,
       "version_minor": 0
      },
      "text/plain": [
       "HBox(children=(VBox(children=(FloatText(value=4.25, description='Batch Size (L) =', style=DescriptionStyle(des…"
      ]
     },
     "metadata": {},
     "output_type": "display_data"
    }
   ],
   "source": [
    "def make_widget(value, description):\n",
    "    style = {'description_width' : '50%'}\n",
    "    return widgets.FloatText(value=value, description=description, style=style)\n",
    "\n",
    "# Create widgets\n",
    "batch_size_box = make_widget(4.25, 'Batch Size (L) =')\n",
    "grain_mass_box = make_widget(1.25, 'Total Grain Mass (kg) =')\n",
    "trub_loss_box = make_widget(0.6, 'Trub Loss (L) =')\n",
    "kettle_loss_box = make_widget(0.4, 'Kettle Loss (L) =')\n",
    "boil_time_box = make_widget(1, 'Boil Time (hr) =')\n",
    "bottle_size_box = make_widget(450, 'Bottle Size (mL) =')\n",
    "\n",
    "# Create boxes to display widgets\n",
    "left_box = widgets.VBox([batch_size_box,\n",
    "                         grain_mass_box])\n",
    "mid_box = widgets.VBox([trub_loss_box,\n",
    "                        kettle_loss_box])\n",
    "right_box = widgets.VBox([boil_time_box,\n",
    "                          bottle_size_box])\n",
    "widgets.HBox([left_box, mid_box, right_box])"
   ]
  },
  {
   "cell_type": "code",
   "execution_count": 3,
   "metadata": {},
   "outputs": [
    {
     "name": "stdout",
     "output_type": "stream",
     "text": [
      "4.25 L\n",
      "1.25 kg\n",
      "0.6 L\n",
      "0.4 L\n",
      "1.0 hr\n",
      "450 mL\n"
     ]
    }
   ],
   "source": [
    "batch_size = batch_size_box.value\n",
    "grain_mass = grain_mass_box.value\n",
    "trub_loss = trub_loss_box.value\n",
    "kettle_loss = kettle_loss_box.value\n",
    "boil_time = boil_time_box.value\n",
    "bottle_size = int(bottle_size_box.value)\n",
    "\n",
    "print(batch_size, 'L')\n",
    "print(grain_mass, 'kg')\n",
    "print(trub_loss, 'L')\n",
    "print(kettle_loss, 'L')\n",
    "print(boil_time, 'hr')\n",
    "print(bottle_size, 'mL')"
   ]
  },
  {
   "cell_type": "markdown",
   "metadata": {},
   "source": [
    "### Calculate Water amounts\n",
    "Need functions to take in batch size and work out the amounts all the way to strike water, inculding assumptions for losses etc.\n",
    "Calculations and definitions from [Mash Hacks](https://mashhacks.com/how-to-calculate-water-volumes-for-brewing/):\n",
    "\n",
    "- **Strike Water** - The starting amount of hot water (usually between 60C and 80C) that is used for the mash (adding grain to water).\n",
    "- **Grain Absorption** - The amount of water absorbed by the grain.\n",
    "- **First Runnings** - The amount of wort (sugary water) that is collected from the mash tun after your mash has finished.\n",
    "- **Sparge Water** - Water that is added to the mash tun after mashing to rinse the grain of any left over sugars.\n",
    "- **Pre-Boil Volume** - The amount of wort (sugary water) that is in your kettle before you start your boil.\n",
    "- **Evaporation Rate** - The amount of water that is boiled off. Usually in Litres per Hour (or Gal/hr).\n",
    "- **Post-Boil Volume** - The amount of wort left after you finish the boil.\n",
    "- **Kettle Loss** - The amount of wort (if any) left at the bottom of the kettle that was not transferred to the fermenter.\n",
    "- **Fermenter Volume** - The amount of wort you were able to get out of the kettle and put into the fermenter.\n",
    "- **Trub Loss** aka *Fermenter loss* - The amount of beer (if any) at the bottom of the fermenter that was not transferred into bottles or kegs.\n",
    "- **Batch Size** - The amount of beer that you were able to get out of the fermenter and put into bottles or kegs."
   ]
  },
  {
   "cell_type": "code",
   "execution_count": 4,
   "metadata": {},
   "outputs": [],
   "source": [
    "# This will be a module (file)\n",
    "class constants(object):\n",
    "    # Approximate rate of evaporation at boil (L/hr)\n",
    "    evap_rate = 3\n",
    "    # Approximate loss of volume due to grain absorption (L/kg)\n",
    "    grain_abs_rate = 1\n",
    "    # Efficiency of getting sugars from malt\n",
    "    eff = 0.6"
   ]
  },
  {
   "cell_type": "code",
   "execution_count": 5,
   "metadata": {},
   "outputs": [],
   "source": [
    "fermenter_vol = batch_size + trub_loss\n",
    "post_boil_vol = fermenter_vol + kettle_loss\n",
    "pre_boil_vol = post_boil_vol + constants.evap_rate * boil_time\n",
    "\n",
    "strike_water = 3 * grain_mass\n",
    "grain_absorption = constants.grain_abs_rate * grain_mass\n",
    "first_runnings = strike_water - grain_absorption\n",
    "\n",
    "sparge_water = pre_boil_vol - first_runnings"
   ]
  },
  {
   "cell_type": "code",
   "execution_count": 6,
   "metadata": {},
   "outputs": [
    {
     "name": "stdout",
     "output_type": "stream",
     "text": [
      "Strike Water =  3.75\n",
      "Grain Absorption =  1.25\n",
      "First Runnings =  2.5\n",
      "Sparge Water =  5.75\n",
      "Pre-boil Volume =  8.25\n",
      "Post-boil Volume =  5.25\n",
      "Fermenter volume =  4.85\n"
     ]
    }
   ],
   "source": [
    "print('Strike Water = ', strike_water)\n",
    "print('Grain Absorption = ', grain_absorption)\n",
    "print('First Runnings = ', first_runnings)\n",
    "\n",
    "print('Sparge Water = ', sparge_water)\n",
    "\n",
    "print('Pre-boil Volume = ', pre_boil_vol)\n",
    "print('Post-boil Volume = ', post_boil_vol)\n",
    "print('Fermenter volume = ', fermenter_vol)"
   ]
  },
  {
   "cell_type": "markdown",
   "metadata": {},
   "source": [
    "### Calculate Expected Original Gravity"
   ]
  },
  {
   "cell_type": "code",
   "execution_count": 7,
   "metadata": {},
   "outputs": [
    {
     "name": "stdout",
     "output_type": "stream",
     "text": [
      "4.25 L; 1.25 kg\n"
     ]
    }
   ],
   "source": [
    "print(batch_size, 'L;', grain_mass, 'kg')"
   ]
  },
  {
   "cell_type": "markdown",
   "metadata": {},
   "source": [
    "Mash Efficiency - from https://aussiehomebrewer.com/threads/working-out-mash-efficiency-in-metric.35490/\n",
    "\n",
    "The H.W.E (hot water extract) value for the malt is the amount of sugar in the wort.\n",
    "386 is the maximum (pure sugar) so every malt is given as a % of that."
   ]
  },
  {
   "cell_type": "code",
   "execution_count": 8,
   "metadata": {},
   "outputs": [
    {
     "data": {
      "text/plain": [
       "1.045"
      ]
     },
     "execution_count": 8,
     "metadata": {},
     "output_type": "execute_result"
    }
   ],
   "source": [
    "def expected_original_hwe(grain_mass, malt_hwe, batch_size):\n",
    "    potential_hwe = grain_mass * 386 * malt_hwe / batch_size\n",
    "    \n",
    "    original_hwe = 0.5 * potential_hwe\n",
    "    \n",
    "    return original_hwe\n",
    "\n",
    "def hwe2gravity(hwe):\n",
    "    try:\n",
    "        total_hwe = 0\n",
    "        for val in hwe:\n",
    "            total_hwe += val\n",
    "    except:\n",
    "        total_hwe = hwe\n",
    "    \n",
    "    gravity = round(total_hwe / 1000 + 1.0, 3)\n",
    "    \n",
    "    return gravity\n",
    "\n",
    "hwe2gravity([expected_original_hwe(1, 0.8, batch_size), expected_original_hwe(0.25, 0.75, batch_size)])"
   ]
  },
  {
   "cell_type": "code",
   "execution_count": 9,
   "metadata": {},
   "outputs": [
    {
     "name": "stdout",
     "output_type": "stream",
     "text": [
      "Final alcohol percentage = 4.5% ABV\n",
      "1.6 Standard Drinks per 450mL bottle\n"
     ]
    }
   ],
   "source": [
    "malt = {\n",
    "    'Pilsner' : {\n",
    "        'Mass' : 0.5,\n",
    "        'HWE' : 0.8,\n",
    "        'EBC' : 4\n",
    "    },\n",
    "    'Ale' : {\n",
    "        'Mass' : 0.5,\n",
    "        'HWE' : 0.8,\n",
    "        'EBC' : 5\n",
    "    },\n",
    "    'Crystal' : {\n",
    "        'Mass' : 0.25,\n",
    "        'HWE' : 0.75,\n",
    "        'EBC' : 40\n",
    "    },\n",
    "}\n",
    "hops = {\n",
    "    'Saaz' : {\n",
    "        \"Alpha Acids\" : 4.4,\n",
    "        \"Mass\" : [4, 4, 4],\n",
    "        \"Times\" : [60, 30, 5]\n",
    "    },\n",
    "    'Hallertauer' : {\n",
    "        \"Alpha Acids\" : 2.8,\n",
    "        \"Mass\" : [4, 4, 4],\n",
    "        \"Times\" : [60, 30, 5]\n",
    "    },\n",
    "}\n",
    "\n",
    "def alcohol_percentage(original_gravity, final_gravity):\n",
    "    return (original_gravity - final_gravity) * 131.25\n",
    "\n",
    "def standard_drinks(bottle_size, prc_vol):\n",
    "    return bottle_size * (prc_vol/100) / 12.5\n",
    "\n",
    "original_gravity = 1.044\n",
    "final_gravity = 1.01\n",
    "\n",
    "prc_vol = alcohol_percentage(original_gravity, final_gravity)\n",
    "std_drinks = standard_drinks(bottle_size, prc_vol)\n",
    "\n",
    "print(f\"Final alcohol percentage = {prc_vol:.2}% ABV\")\n",
    "print(f\"{std_drinks:.2} Standard Drinks per {bottle_size}mL bottle\")"
   ]
  },
  {
   "cell_type": "markdown",
   "metadata": {},
   "source": [
    "### Calculate IBU"
   ]
  },
  {
   "cell_type": "markdown",
   "metadata": {},
   "source": [
    "http://www.backtoschoolbrewing.com/blog/2016/9/5/how-to-calculate-ibus\n",
    "\n",
    "http://www.realbeer.com/hops/research.html\n",
    "\n",
    "To calculate IBUs, the formula is simple:\n",
    "\n",
    "`IBUs = decimal alpha acid utilization * mg/l of added alpha acids`\n",
    "\n",
    "To calculate the concentration of alpha acids you add to the wort:\n",
    "\n",
    "`mg/l of added alpha acids = decimal AA rating * grams hops * 1000 / volume of finished beer in liters`\n",
    "\n",
    "You can look up the decimal alpha acid utilization in the utilization table below or calculate it directly using the Bigness factor and the Boil Time factor.\n",
    "\n",
    "`decimal alpha acid utilization = Bigness factor * Boil Time factor`\n",
    "\n",
    "\n",
    "The Bigness factor accounts for reduced utilization due to higher wort gravities. Use an average gravity value for the entire boil to account for changes in the wort volume.\n",
    "\n",
    "`Bigness factor = 1.65 * 0.000125^(wort gravity - 1)`\n",
    "\n",
    "The Boil Time factor accounts for the change in utilization due to boil time:\n",
    "\n",
    "`Boil Time factor = (1 - e^(-0.04 * time in mins) ) / 4.15`\n"
   ]
  },
  {
   "cell_type": "code",
   "execution_count": 10,
   "metadata": {},
   "outputs": [
    {
     "name": "stdout",
     "output_type": "stream",
     "text": [
      "21.078979476924182 13.41389603076993 34.49287550769411\n"
     ]
    }
   ],
   "source": [
    "def ibu(mass_hops, batch_size, aa_rating, boil_gravity=original_gravity, boil_time=60):\n",
    "    boil_time_factor = (1 - math.exp(-0.04 * boil_time)) / 4.15\n",
    "    \n",
    "    bigness_factor = 1.65 * 0.000125**(boil_gravity - 1)\n",
    "    \n",
    "    aa_utilization = bigness_factor * boil_time_factor\n",
    "    \n",
    "    aa_concentration = aa_rating / 100 * mass_hops * 1000 / batch_size\n",
    "        \n",
    "    return aa_utilization * aa_concentration\n",
    "\n",
    "hallertau = ibu(4, 4, 4.4, boil_time=60) + ibu(4, 4, 4.4, boil_time=30) + ibu(4, 4, 4.4, boil_time=5)\n",
    "saaz = ibu(4, 4, 2.8, boil_time=60) + ibu(4, 4, 2.8, boil_time=30) + ibu(4, 4, 2.8, boil_time=5)\n",
    "print(hallertau, saaz, hallertau + saaz)"
   ]
  },
  {
   "cell_type": "markdown",
   "metadata": {},
   "source": [
    "### Calculate EBC"
   ]
  },
  {
   "cell_type": "markdown",
   "metadata": {},
   "source": [
    "http://beersmith.com/blog/2008/04/29/beer-color-understanding-srm-lovibond-and-ebc/\n",
    "\n",
    "http://homebrewtechniques.com/mashing/how-do-you-calculate-beer-colour/\n",
    "\n",
    "The calculation we use to work out the colour value for our beer is:\n",
    "\n",
    "MCU = weight of malt (in lbs) x malt colour (in lovibond) / volume (in gallons)\n",
    "\n",
    "(lovibond = SRM)\n",
    "\n",
    "To convert our recipe from kg and litres into US gallons and lbs we use the following conversion factors:\n",
    "\n",
    "1 litre = 0.264172 US gallons\n",
    "\n",
    "1 kg = 2.20462 lbs.\n",
    "\n",
    "SRM = 1.4922 * MCU^0.6859\n",
    "\n",
    "EBC = 1.97 * SRM "
   ]
  },
  {
   "cell_type": "code",
   "execution_count": 11,
   "metadata": {},
   "outputs": [
    {
     "data": {
      "text/plain": [
       "26.763175530354943"
      ]
     },
     "execution_count": 11,
     "metadata": {},
     "output_type": "execute_result"
    }
   ],
   "source": [
    "def ebc(grain_mass, malt_colour, batch_size):\n",
    "    return 1.97 * (1.4922 * ((grain_mass*2.2*malt_colour/1.97)/(batch_size*0.264172))**0.6859)\n",
    "\n",
    "ebc(0.5, 4, batch_size) + ebc(0.5, 5, batch_size) + ebc(0.250, 50, batch_size)"
   ]
  },
  {
   "cell_type": "code",
   "execution_count": 12,
   "metadata": {},
   "outputs": [],
   "source": [
    "from brewing import BeerRecipe"
   ]
  },
  {
   "cell_type": "code",
   "execution_count": 13,
   "metadata": {},
   "outputs": [
    {
     "name": "stdout",
     "output_type": "stream",
     "text": [
      "Final alcohol percentage = 4.3% ABV\n",
      "1.6 Standard Drinks per 450mL bottle\n"
     ]
    }
   ],
   "source": [
    "saazon = BeerRecipe(batch_size, grain_mass, trub_loss, kettle_loss, boil_time, bottle_size)"
   ]
  },
  {
   "cell_type": "code",
   "execution_count": 14,
   "metadata": {},
   "outputs": [
    {
     "name": "stdout",
     "output_type": "stream",
     "text": [
      "21.078979476924182 13.41389603076993 34.49287550769411\n"
     ]
    }
   ],
   "source": [
    "hallertau = saazon.calculate_ibu(4, 4, 4.4, boil_time=60) + saazon.calculate_ibu(4, 4, 4.4, boil_time=30) + saazon.calculate_ibu(4, 4, 4.4, boil_time=5)\n",
    "saaz = saazon.calculate_ibu(4, 4, 2.8, boil_time=60) + saazon.calculate_ibu(4, 4, 2.8, boil_time=30) + saazon.calculate_ibu(4, 4, 2.8, boil_time=5)\n",
    "print(hallertau, saaz, hallertau + saaz)"
   ]
  },
  {
   "cell_type": "code",
   "execution_count": 15,
   "metadata": {},
   "outputs": [],
   "source": [
    "saazon.json = {\n",
    "    \"malt\" : {\n",
    "        \"Pilsner\" : {\n",
    "            \"Mass\" : 0.5,\n",
    "            \"HWE\" : 0.8,\n",
    "            \"EBC\" : 4\n",
    "        },\n",
    "        \"Ale\" : {\n",
    "            \"Mass\" : 0.5,\n",
    "            \"HWE\" : 0.8,\n",
    "            \"EBC\" : 5\n",
    "        },\n",
    "        \"Crystal\" : {\n",
    "            \"Mass\" : 0.25,\n",
    "            \"HWE\" : 0.75,\n",
    "            \"EBC\" : 40\n",
    "        },\n",
    "    },\n",
    "    \"hops\" : {\n",
    "        \"Saaz\" : {\n",
    "            \"Alpha Acids\" : 4.4,\n",
    "            \"Mass\" : [4, 4, 4],\n",
    "            \"Times\" : [60, 30, 5]\n",
    "        },\n",
    "        \"Hallertauer\" : {\n",
    "            \"Alpha Acids\" : 2.8,\n",
    "            \"Mass\" : [4, 4, 4],\n",
    "            \"Times\" : [60, 30, 5]\n",
    "        },\n",
    "    }\n",
    "}\n",
    "saazon.save_recipe('Saazon.json')"
   ]
  },
  {
   "cell_type": "code",
   "execution_count": 16,
   "metadata": {},
   "outputs": [
    {
     "data": {
      "text/plain": [
       "{'malt': {'Pilsner': {'Mass': 0.5, 'HWE': 0.8, 'EBC': 4},\n",
       "  'Ale': {'Mass': 0.5, 'HWE': 0.8, 'EBC': 5},\n",
       "  'Crystal': {'Mass': 0.25, 'HWE': 0.75, 'EBC': 40}},\n",
       " 'hops': {'Saaz': {'Alpha Acids': 4.4,\n",
       "   'Mass': [4, 4, 4],\n",
       "   'Times': [60, 30, 5]},\n",
       "  'Hallertauer': {'Alpha Acids': 2.8,\n",
       "   'Mass': [4, 4, 4],\n",
       "   'Times': [60, 30, 5]}}}"
      ]
     },
     "execution_count": 16,
     "metadata": {},
     "output_type": "execute_result"
    }
   ],
   "source": [
    "saazon.read_recipe('Saazon.json')"
   ]
  },
  {
   "cell_type": "code",
   "execution_count": null,
   "metadata": {},
   "outputs": [],
   "source": []
  }
 ],
 "metadata": {
  "kernelspec": {
   "display_name": "Python 3",
   "language": "python",
   "name": "python3"
  },
  "language_info": {
   "codemirror_mode": {
    "name": "ipython",
    "version": 3
   },
   "file_extension": ".py",
   "mimetype": "text/x-python",
   "name": "python",
   "nbconvert_exporter": "python",
   "pygments_lexer": "ipython3",
   "version": "3.6.6"
  },
  "widgets": {
   "application/vnd.jupyter.widget-state+json": {
    "state": {
     "19dc39799a824190be7caff2ac6aa2df": {
      "model_module": "@jupyter-widgets/base",
      "model_module_version": "1.1.0",
      "model_name": "LayoutModel",
      "state": {}
     },
     "200156a764d14aa588c52fade0150c15": {
      "model_module": "@jupyter-widgets/controls",
      "model_module_version": "1.4.0",
      "model_name": "DescriptionStyleModel",
      "state": {
       "description_width": "50%"
      }
     },
     "24424a3a598b47c1bb9fc0be668d06f0": {
      "model_module": "@jupyter-widgets/controls",
      "model_module_version": "1.4.0",
      "model_name": "HBoxModel",
      "state": {
       "children": [
        "IPY_MODEL_fa41aba93bdf4e58b9b42c191b822952",
        "IPY_MODEL_cf99ee7d191f454d819aea71e610d596",
        "IPY_MODEL_c8103421bc0445139f6b45d701b9447b"
       ],
       "layout": "IPY_MODEL_a5e718160708486781f9b63be409149e"
      }
     },
     "331c7da2e7c74ec9b7592f62a28babf5": {
      "model_module": "@jupyter-widgets/controls",
      "model_module_version": "1.4.0",
      "model_name": "FloatTextModel",
      "state": {
       "description": "Kettle Loss (L) =",
       "layout": "IPY_MODEL_7645ea63f8e5438c8a6f02190b41f3a1",
       "step": null,
       "style": "IPY_MODEL_33b3cc9c4d0347bd9f082ca05f364f57",
       "value": 0.4
      }
     },
     "33b3cc9c4d0347bd9f082ca05f364f57": {
      "model_module": "@jupyter-widgets/controls",
      "model_module_version": "1.4.0",
      "model_name": "DescriptionStyleModel",
      "state": {
       "description_width": "50%"
      }
     },
     "3887c559126d4a168728dda6c34fcf6f": {
      "model_module": "@jupyter-widgets/controls",
      "model_module_version": "1.4.0",
      "model_name": "DescriptionStyleModel",
      "state": {
       "description_width": "50%"
      }
     },
     "5bd48161d44140ce8f6b968bf552f463": {
      "model_module": "@jupyter-widgets/base",
      "model_module_version": "1.1.0",
      "model_name": "LayoutModel",
      "state": {}
     },
     "6712d704f5d14f579d72737955eb7a6f": {
      "model_module": "@jupyter-widgets/base",
      "model_module_version": "1.1.0",
      "model_name": "LayoutModel",
      "state": {}
     },
     "68f5ac75ba0d4759ba3d9cdc0db8db1b": {
      "model_module": "@jupyter-widgets/controls",
      "model_module_version": "1.4.0",
      "model_name": "FloatTextModel",
      "state": {
       "description": "Total Grain Mass (kg) =",
       "layout": "IPY_MODEL_9d63de8ac14747079beb2d23b642f286",
       "step": null,
       "style": "IPY_MODEL_77a40b572d9f48df995bd2b57a81e332",
       "value": 1.25
      }
     },
     "7645ea63f8e5438c8a6f02190b41f3a1": {
      "model_module": "@jupyter-widgets/base",
      "model_module_version": "1.1.0",
      "model_name": "LayoutModel",
      "state": {}
     },
     "77a40b572d9f48df995bd2b57a81e332": {
      "model_module": "@jupyter-widgets/controls",
      "model_module_version": "1.4.0",
      "model_name": "DescriptionStyleModel",
      "state": {
       "description_width": "50%"
      }
     },
     "78d06ecf56804229ac82bb803bfc9a6e": {
      "model_module": "@jupyter-widgets/controls",
      "model_module_version": "1.4.0",
      "model_name": "DescriptionStyleModel",
      "state": {
       "description_width": "50%"
      }
     },
     "7963bb9caf8a413cb3b911f89e210e83": {
      "model_module": "@jupyter-widgets/controls",
      "model_module_version": "1.4.0",
      "model_name": "DescriptionStyleModel",
      "state": {
       "description_width": "50%"
      }
     },
     "8757d07fbb48408980f19d26b849e176": {
      "model_module": "@jupyter-widgets/controls",
      "model_module_version": "1.4.0",
      "model_name": "FloatTextModel",
      "state": {
       "description": "Boil Time (hr) =",
       "layout": "IPY_MODEL_f82562aaa3e84fe9b1d0e957cdd97439",
       "step": null,
       "style": "IPY_MODEL_3887c559126d4a168728dda6c34fcf6f",
       "value": 1
      }
     },
     "91ed08ad85544412974568c54493a742": {
      "model_module": "@jupyter-widgets/base",
      "model_module_version": "1.1.0",
      "model_name": "LayoutModel",
      "state": {}
     },
     "9b95c8b95b7742dcb9fc5cc25bc454b8": {
      "model_module": "@jupyter-widgets/controls",
      "model_module_version": "1.4.0",
      "model_name": "FloatTextModel",
      "state": {
       "description": "Batch Size (L) =",
       "layout": "IPY_MODEL_6712d704f5d14f579d72737955eb7a6f",
       "step": null,
       "style": "IPY_MODEL_7963bb9caf8a413cb3b911f89e210e83",
       "value": 4.25
      }
     },
     "9d63de8ac14747079beb2d23b642f286": {
      "model_module": "@jupyter-widgets/base",
      "model_module_version": "1.1.0",
      "model_name": "LayoutModel",
      "state": {}
     },
     "a5e718160708486781f9b63be409149e": {
      "model_module": "@jupyter-widgets/base",
      "model_module_version": "1.1.0",
      "model_name": "LayoutModel",
      "state": {}
     },
     "a7f933d01abb41c885fbcda05f418375": {
      "model_module": "@jupyter-widgets/controls",
      "model_module_version": "1.4.0",
      "model_name": "FloatTextModel",
      "state": {
       "description": "Bottle Size (mL) =",
       "layout": "IPY_MODEL_e5f91db082d44fc2bdf2bd99bd686fbd",
       "step": null,
       "style": "IPY_MODEL_78d06ecf56804229ac82bb803bfc9a6e",
       "value": 450
      }
     },
     "c8103421bc0445139f6b45d701b9447b": {
      "model_module": "@jupyter-widgets/controls",
      "model_module_version": "1.4.0",
      "model_name": "VBoxModel",
      "state": {
       "children": [
        "IPY_MODEL_8757d07fbb48408980f19d26b849e176",
        "IPY_MODEL_a7f933d01abb41c885fbcda05f418375"
       ],
       "layout": "IPY_MODEL_5bd48161d44140ce8f6b968bf552f463"
      }
     },
     "ce3a32d651684adc968e5759737a8e55": {
      "model_module": "@jupyter-widgets/controls",
      "model_module_version": "1.4.0",
      "model_name": "FloatTextModel",
      "state": {
       "description": "Trub Loss (L) =",
       "layout": "IPY_MODEL_eed06cc12c4c4ce495aaf13c9ac1fe9c",
       "step": null,
       "style": "IPY_MODEL_200156a764d14aa588c52fade0150c15",
       "value": 0.6
      }
     },
     "cf99ee7d191f454d819aea71e610d596": {
      "model_module": "@jupyter-widgets/controls",
      "model_module_version": "1.4.0",
      "model_name": "VBoxModel",
      "state": {
       "children": [
        "IPY_MODEL_ce3a32d651684adc968e5759737a8e55",
        "IPY_MODEL_331c7da2e7c74ec9b7592f62a28babf5"
       ],
       "layout": "IPY_MODEL_91ed08ad85544412974568c54493a742"
      }
     },
     "e5f91db082d44fc2bdf2bd99bd686fbd": {
      "model_module": "@jupyter-widgets/base",
      "model_module_version": "1.1.0",
      "model_name": "LayoutModel",
      "state": {}
     },
     "eed06cc12c4c4ce495aaf13c9ac1fe9c": {
      "model_module": "@jupyter-widgets/base",
      "model_module_version": "1.1.0",
      "model_name": "LayoutModel",
      "state": {}
     },
     "f82562aaa3e84fe9b1d0e957cdd97439": {
      "model_module": "@jupyter-widgets/base",
      "model_module_version": "1.1.0",
      "model_name": "LayoutModel",
      "state": {}
     },
     "fa41aba93bdf4e58b9b42c191b822952": {
      "model_module": "@jupyter-widgets/controls",
      "model_module_version": "1.4.0",
      "model_name": "VBoxModel",
      "state": {
       "children": [
        "IPY_MODEL_9b95c8b95b7742dcb9fc5cc25bc454b8",
        "IPY_MODEL_68f5ac75ba0d4759ba3d9cdc0db8db1b"
       ],
       "layout": "IPY_MODEL_19dc39799a824190be7caff2ac6aa2df"
      }
     }
    },
    "version_major": 2,
    "version_minor": 0
   }
  }
 },
 "nbformat": 4,
 "nbformat_minor": 2
}
