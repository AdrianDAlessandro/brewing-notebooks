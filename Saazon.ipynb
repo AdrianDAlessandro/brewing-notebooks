{
 "cells": [
  {
   "cell_type": "markdown",
   "metadata": {},
   "source": [
    "# Saazon\n",
    "A variation on the Crystal Cascade using saison yeast and noble hops\n",
    "\n",
    "A light yet full-bodied Saison with fruity esters and spicy hops"
   ]
  },
  {
   "cell_type": "markdown",
   "metadata": {},
   "source": [
    "## Recipe\n",
    "\n",
    "### Malt Bill:\n",
    " - Viking Pilsner (3 - 5 EBC)\n",
    " - Viking Pale Ale Malt (4 - 6 EBC)\n",
    " - Crystal Malt (40 - 60 EBC)\n",
    "\n",
    "### Hops:\n",
    " - Hallertauer (4.4% Alpha Acids)\n",
    " - Saaz (2.8% Alpha Acids)\n",
    "\n",
    "### Yeast:\n",
    " - SafAle BE-134 Saison Yeast\n",
    "\n",
    "### Fermentation:\n",
    " - 2 weeks 20-25C\n",
    " - 3 weeks in bottles"
   ]
  },
  {
   "cell_type": "code",
   "execution_count": 1,
   "metadata": {},
   "outputs": [],
   "source": [
    "from ipywidgets import interact, fixed\n",
    "import ipywidgets as widgets\n",
    "from brewing import BeerRecipe"
   ]
  },
  {
   "cell_type": "code",
   "execution_count": 2,
   "metadata": {
    "scrolled": true
   },
   "outputs": [
    {
     "data": {
      "application/vnd.jupyter.widget-view+json": {
       "model_id": "6f3ba7b5e6bd40edb311eaca37c205c7",
       "version_major": 2,
       "version_minor": 0
      },
      "text/plain": [
       "HBox(children=(VBox(children=(FloatText(value=4.25, description='Batch Size (L) =', style=DescriptionStyle(des…"
      ]
     },
     "metadata": {},
     "output_type": "display_data"
    }
   ],
   "source": [
    "def make_widget(value, description):\n",
    "    style = {'description_width' : '50%'}\n",
    "    return widgets.FloatText(value=value, description=description, style=style)\n",
    "\n",
    "# Create widgets\n",
    "batch_size_box = make_widget(4.25, 'Batch Size (L) =')\n",
    "name_box = widgets.Text(value=\"Saazon\", description=\"Beer Name\")\n",
    "yeast_box = widgets.Text(value=\"SafAle BE-134 Saison Yeast\", description=\"Yeast Name\")\n",
    "\n",
    "# Create boxes to display widgets\n",
    "left_box = widgets.VBox([batch_size_box])\n",
    "mid_box = widgets.VBox([name_box])\n",
    "right_box = widgets.VBox([yeast_box])\n",
    "\n",
    "widgets.HBox([left_box, mid_box, right_box])"
   ]
  },
  {
   "cell_type": "code",
   "execution_count": 3,
   "metadata": {},
   "outputs": [],
   "source": [
    "beer = BeerRecipe(\n",
    "    name=name_box.value,\n",
    "    batch_size=batch_size_box.value,\n",
    "    yeast=yeast_box.value\n",
    ")"
   ]
  },
  {
   "cell_type": "code",
   "execution_count": 4,
   "metadata": {},
   "outputs": [
    {
     "name": "stdout",
     "output_type": "stream",
     "text": [
      "Saazon Brewing Instructions\n",
      "\n",
      "Malt Bill:\n",
      "\t0.500kg of Pilsner (0.8HWE and 4EBC)\n",
      "\t0.500kg of Ale (0.8HWE and 5EBC)\n",
      "\t0.250kg of Crystal (0.75HWE and 40EBC)\n",
      "Hops:\n",
      "\tSaaz (4.4% AA):\n",
      "\t\t4g at 60 minutes\n",
      "\t\t4g at 30 minutes\n",
      "\t\t4g at  5 minutes\n",
      "\tHallertauer (2.8% AA):\n",
      "\t\t4g at 60 minutes\n",
      "\t\t4g at 30 minutes\n",
      "\t\t4g at  5 minutes\n",
      "Yeast:\n",
      "\tSafAle BE-134 Saison Yeast\n",
      "Properties:\n",
      "\tAlcohol: 4.6%\n",
      "\tIBU: 32\n",
      "\tEBC: 24\n",
      "Water:\n",
      "\tStrike Water: 3.8L\n",
      "\tSparge Water: 5.4L\n",
      "\tBatch Size: 4.2L\n",
      "Priming Sugar: 12g\n"
     ]
    }
   ],
   "source": [
    "malt = {\n",
    "    'Pilsner' : {\n",
    "        'Mass' : 0.5,\n",
    "        'HWE' : 0.8,\n",
    "        'EBC' : 4\n",
    "    },\n",
    "    'Ale' : {\n",
    "        'Mass' : 0.5,\n",
    "        'HWE' : 0.8,\n",
    "        'EBC' : 5\n",
    "    },\n",
    "    'Crystal' : {\n",
    "        'Mass' : 0.25,\n",
    "        'HWE' : 0.75,\n",
    "        'EBC' : 40\n",
    "    },\n",
    "}\n",
    "hops = {\n",
    "    'Saaz' : {\n",
    "        \"Alpha Acids\" : 4.4,\n",
    "        \"Masses\" : [4, 4, 4],\n",
    "        \"Times\" : [60, 30, 5]\n",
    "    },\n",
    "    'Hallertauer' : {\n",
    "        \"Alpha Acids\" : 2.8,\n",
    "        \"Masses\" : [4, 4, 4],\n",
    "        \"Times\" : [60, 30, 5]\n",
    "    },\n",
    "}\n",
    "\n",
    "beer.malt = malt\n",
    "beer.hops = hops\n",
    "\n",
    "# Uncomment to save and/or read from file:\n",
    "# beer.save_recipe('Saazon.json')\n",
    "# beer.read_recipe('Saazon.json')\n",
    "print(beer)"
   ]
  },
  {
   "cell_type": "markdown",
   "metadata": {},
   "source": [
    "### Scaled Version"
   ]
  },
  {
   "cell_type": "code",
   "execution_count": 5,
   "metadata": {},
   "outputs": [
    {
     "name": "stdout",
     "output_type": "stream",
     "text": [
      "Saazon Brewing Instructions\n",
      "\n",
      "Malt Bill:\n",
      "\t2.353kg of Pilsner (0.8HWE and 4EBC)\n",
      "\t2.353kg of Ale (0.8HWE and 5EBC)\n",
      "\t1.176kg of Crystal (0.75HWE and 40EBC)\n",
      "Hops:\n",
      "\tSaaz (4.4% AA):\n",
      "\t\t19g at 60 minutes\n",
      "\t\t19g at 30 minutes\n",
      "\t\t19g at  5 minutes\n",
      "\tHallertauer (2.8% AA):\n",
      "\t\t19g at 60 minutes\n",
      "\t\t19g at 30 minutes\n",
      "\t\t19g at  5 minutes\n",
      "Yeast:\n",
      "\tSafAle BE-134 Saison Yeast\n",
      "Properties:\n",
      "\tAlcohol: 4.6%\n",
      "\tIBU: 32\n",
      "\tEBC: 24\n",
      "Water:\n",
      "\tStrike Water: 17.6L\n",
      "\tSparge Water: 14.2L\n",
      "\tBatch Size: 20.0L\n",
      "Priming Sugar: 57g\n"
     ]
    }
   ],
   "source": [
    "beer.scale_brew(batch_size=20)\n",
    "print(beer)"
   ]
  },
  {
   "cell_type": "markdown",
   "metadata": {},
   "source": [
    "### Actual Measurements"
   ]
  },
  {
   "cell_type": "code",
   "execution_count": 6,
   "metadata": {},
   "outputs": [
    {
     "data": {
      "text/plain": [
       "(1.0467938618925832, 1.0116984654731458, 4.6062707800511555)"
      ]
     },
     "execution_count": 6,
     "metadata": {},
     "output_type": "execute_result"
    }
   ],
   "source": [
    "beer.original_gravity, beer.final_gravity, beer.alcohol_percentage"
   ]
  },
  {
   "cell_type": "code",
   "execution_count": 7,
   "metadata": {},
   "outputs": [
    {
     "name": "stdout",
     "output_type": "stream",
     "text": [
      "The mash efficiency was 56%\n",
      "The wort fermentability was 86%\n"
     ]
    }
   ],
   "source": [
    "beer.original_gravity = 1.044\n",
    "beer.final_gravity = 1.006"
   ]
  },
  {
   "cell_type": "code",
   "execution_count": 8,
   "metadata": {},
   "outputs": [
    {
     "data": {
      "text/plain": [
       "(1.044, 1.006, 4.987500000000004)"
      ]
     },
     "execution_count": 8,
     "metadata": {},
     "output_type": "execute_result"
    }
   ],
   "source": [
    "beer.original_gravity, beer.final_gravity, beer.alcohol_percentage"
   ]
  },
  {
   "cell_type": "code",
   "execution_count": 9,
   "metadata": {},
   "outputs": [
    {
     "name": "stdout",
     "output_type": "stream",
     "text": [
      "Saazon Brewing Instructions\n",
      "\n",
      "Malt Bill:\n",
      "\t2.353kg of Pilsner (0.8HWE and 4EBC)\n",
      "\t2.353kg of Ale (0.8HWE and 5EBC)\n",
      "\t1.176kg of Crystal (0.75HWE and 40EBC)\n",
      "Hops:\n",
      "\tSaaz (4.4% AA):\n",
      "\t\t19g at 60 minutes\n",
      "\t\t19g at 30 minutes\n",
      "\t\t19g at  5 minutes\n",
      "\tHallertauer (2.8% AA):\n",
      "\t\t19g at 60 minutes\n",
      "\t\t19g at 30 minutes\n",
      "\t\t19g at  5 minutes\n",
      "Yeast:\n",
      "\tSafAle BE-134 Saison Yeast\n",
      "Properties:\n",
      "\tAlcohol: 5.0%\n",
      "\tIBU: 32\n",
      "\tEBC: 24\n",
      "Water:\n",
      "\tStrike Water: 17.6L\n",
      "\tSparge Water: 14.2L\n",
      "\tBatch Size: 20.0L\n",
      "Priming Sugar: 57g\n"
     ]
    }
   ],
   "source": [
    "print(beer)"
   ]
  }
 ],
 "metadata": {
  "kernelspec": {
   "display_name": "Python 3",
   "language": "python",
   "name": "python3"
  },
  "language_info": {
   "codemirror_mode": {
    "name": "ipython",
    "version": 3
   },
   "file_extension": ".py",
   "mimetype": "text/x-python",
   "name": "python",
   "nbconvert_exporter": "python",
   "pygments_lexer": "ipython3",
   "version": "3.6.6"
  },
  "widgets": {
   "application/vnd.jupyter.widget-state+json": {
    "state": {
     "19dc39799a824190be7caff2ac6aa2df": {
      "model_module": "@jupyter-widgets/base",
      "model_module_version": "1.1.0",
      "model_name": "LayoutModel",
      "state": {}
     },
     "200156a764d14aa588c52fade0150c15": {
      "model_module": "@jupyter-widgets/controls",
      "model_module_version": "1.4.0",
      "model_name": "DescriptionStyleModel",
      "state": {
       "description_width": "50%"
      }
     },
     "24424a3a598b47c1bb9fc0be668d06f0": {
      "model_module": "@jupyter-widgets/controls",
      "model_module_version": "1.4.0",
      "model_name": "HBoxModel",
      "state": {
       "children": [
        "IPY_MODEL_fa41aba93bdf4e58b9b42c191b822952",
        "IPY_MODEL_cf99ee7d191f454d819aea71e610d596",
        "IPY_MODEL_c8103421bc0445139f6b45d701b9447b"
       ],
       "layout": "IPY_MODEL_a5e718160708486781f9b63be409149e"
      }
     },
     "331c7da2e7c74ec9b7592f62a28babf5": {
      "model_module": "@jupyter-widgets/controls",
      "model_module_version": "1.4.0",
      "model_name": "FloatTextModel",
      "state": {
       "description": "Kettle Loss (L) =",
       "layout": "IPY_MODEL_7645ea63f8e5438c8a6f02190b41f3a1",
       "step": null,
       "style": "IPY_MODEL_33b3cc9c4d0347bd9f082ca05f364f57",
       "value": 0.4
      }
     },
     "33b3cc9c4d0347bd9f082ca05f364f57": {
      "model_module": "@jupyter-widgets/controls",
      "model_module_version": "1.4.0",
      "model_name": "DescriptionStyleModel",
      "state": {
       "description_width": "50%"
      }
     },
     "3887c559126d4a168728dda6c34fcf6f": {
      "model_module": "@jupyter-widgets/controls",
      "model_module_version": "1.4.0",
      "model_name": "DescriptionStyleModel",
      "state": {
       "description_width": "50%"
      }
     },
     "5bd48161d44140ce8f6b968bf552f463": {
      "model_module": "@jupyter-widgets/base",
      "model_module_version": "1.1.0",
      "model_name": "LayoutModel",
      "state": {}
     },
     "6712d704f5d14f579d72737955eb7a6f": {
      "model_module": "@jupyter-widgets/base",
      "model_module_version": "1.1.0",
      "model_name": "LayoutModel",
      "state": {}
     },
     "68f5ac75ba0d4759ba3d9cdc0db8db1b": {
      "model_module": "@jupyter-widgets/controls",
      "model_module_version": "1.4.0",
      "model_name": "FloatTextModel",
      "state": {
       "description": "Total Grain Mass (kg) =",
       "layout": "IPY_MODEL_9d63de8ac14747079beb2d23b642f286",
       "step": null,
       "style": "IPY_MODEL_77a40b572d9f48df995bd2b57a81e332",
       "value": 1.25
      }
     },
     "7645ea63f8e5438c8a6f02190b41f3a1": {
      "model_module": "@jupyter-widgets/base",
      "model_module_version": "1.1.0",
      "model_name": "LayoutModel",
      "state": {}
     },
     "77a40b572d9f48df995bd2b57a81e332": {
      "model_module": "@jupyter-widgets/controls",
      "model_module_version": "1.4.0",
      "model_name": "DescriptionStyleModel",
      "state": {
       "description_width": "50%"
      }
     },
     "78d06ecf56804229ac82bb803bfc9a6e": {
      "model_module": "@jupyter-widgets/controls",
      "model_module_version": "1.4.0",
      "model_name": "DescriptionStyleModel",
      "state": {
       "description_width": "50%"
      }
     },
     "7963bb9caf8a413cb3b911f89e210e83": {
      "model_module": "@jupyter-widgets/controls",
      "model_module_version": "1.4.0",
      "model_name": "DescriptionStyleModel",
      "state": {
       "description_width": "50%"
      }
     },
     "8757d07fbb48408980f19d26b849e176": {
      "model_module": "@jupyter-widgets/controls",
      "model_module_version": "1.4.0",
      "model_name": "FloatTextModel",
      "state": {
       "description": "Boil Time (hr) =",
       "layout": "IPY_MODEL_f82562aaa3e84fe9b1d0e957cdd97439",
       "step": null,
       "style": "IPY_MODEL_3887c559126d4a168728dda6c34fcf6f",
       "value": 1
      }
     },
     "91ed08ad85544412974568c54493a742": {
      "model_module": "@jupyter-widgets/base",
      "model_module_version": "1.1.0",
      "model_name": "LayoutModel",
      "state": {}
     },
     "9b95c8b95b7742dcb9fc5cc25bc454b8": {
      "model_module": "@jupyter-widgets/controls",
      "model_module_version": "1.4.0",
      "model_name": "FloatTextModel",
      "state": {
       "description": "Batch Size (L) =",
       "layout": "IPY_MODEL_6712d704f5d14f579d72737955eb7a6f",
       "step": null,
       "style": "IPY_MODEL_7963bb9caf8a413cb3b911f89e210e83",
       "value": 4.25
      }
     },
     "9d63de8ac14747079beb2d23b642f286": {
      "model_module": "@jupyter-widgets/base",
      "model_module_version": "1.1.0",
      "model_name": "LayoutModel",
      "state": {}
     },
     "a5e718160708486781f9b63be409149e": {
      "model_module": "@jupyter-widgets/base",
      "model_module_version": "1.1.0",
      "model_name": "LayoutModel",
      "state": {}
     },
     "a7f933d01abb41c885fbcda05f418375": {
      "model_module": "@jupyter-widgets/controls",
      "model_module_version": "1.4.0",
      "model_name": "FloatTextModel",
      "state": {
       "description": "Bottle Size (mL) =",
       "layout": "IPY_MODEL_e5f91db082d44fc2bdf2bd99bd686fbd",
       "step": null,
       "style": "IPY_MODEL_78d06ecf56804229ac82bb803bfc9a6e",
       "value": 450
      }
     },
     "c8103421bc0445139f6b45d701b9447b": {
      "model_module": "@jupyter-widgets/controls",
      "model_module_version": "1.4.0",
      "model_name": "VBoxModel",
      "state": {
       "children": [
        "IPY_MODEL_8757d07fbb48408980f19d26b849e176",
        "IPY_MODEL_a7f933d01abb41c885fbcda05f418375"
       ],
       "layout": "IPY_MODEL_5bd48161d44140ce8f6b968bf552f463"
      }
     },
     "ce3a32d651684adc968e5759737a8e55": {
      "model_module": "@jupyter-widgets/controls",
      "model_module_version": "1.4.0",
      "model_name": "FloatTextModel",
      "state": {
       "description": "Trub Loss (L) =",
       "layout": "IPY_MODEL_eed06cc12c4c4ce495aaf13c9ac1fe9c",
       "step": null,
       "style": "IPY_MODEL_200156a764d14aa588c52fade0150c15",
       "value": 0.6
      }
     },
     "cf99ee7d191f454d819aea71e610d596": {
      "model_module": "@jupyter-widgets/controls",
      "model_module_version": "1.4.0",
      "model_name": "VBoxModel",
      "state": {
       "children": [
        "IPY_MODEL_ce3a32d651684adc968e5759737a8e55",
        "IPY_MODEL_331c7da2e7c74ec9b7592f62a28babf5"
       ],
       "layout": "IPY_MODEL_91ed08ad85544412974568c54493a742"
      }
     },
     "e5f91db082d44fc2bdf2bd99bd686fbd": {
      "model_module": "@jupyter-widgets/base",
      "model_module_version": "1.1.0",
      "model_name": "LayoutModel",
      "state": {}
     },
     "eed06cc12c4c4ce495aaf13c9ac1fe9c": {
      "model_module": "@jupyter-widgets/base",
      "model_module_version": "1.1.0",
      "model_name": "LayoutModel",
      "state": {}
     },
     "f82562aaa3e84fe9b1d0e957cdd97439": {
      "model_module": "@jupyter-widgets/base",
      "model_module_version": "1.1.0",
      "model_name": "LayoutModel",
      "state": {}
     },
     "fa41aba93bdf4e58b9b42c191b822952": {
      "model_module": "@jupyter-widgets/controls",
      "model_module_version": "1.4.0",
      "model_name": "VBoxModel",
      "state": {
       "children": [
        "IPY_MODEL_9b95c8b95b7742dcb9fc5cc25bc454b8",
        "IPY_MODEL_68f5ac75ba0d4759ba3d9cdc0db8db1b"
       ],
       "layout": "IPY_MODEL_19dc39799a824190be7caff2ac6aa2df"
      }
     }
    },
    "version_major": 2,
    "version_minor": 0
   }
  }
 },
 "nbformat": 4,
 "nbformat_minor": 2
}
