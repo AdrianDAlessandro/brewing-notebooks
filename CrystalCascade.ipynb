{
 "cells": [
  {
   "cell_type": "markdown",
   "metadata": {},
   "source": [
    "# Crystal Cascade\n",
    "A very simple American Pale Ale.\n",
    "\n",
    "Pretty much the same as this [Basic Cascade](https://www.brewtoad.com/recipes/basic-cascade-584c84) I came accross after I'd started this recipe."
   ]
  },
  {
   "cell_type": "markdown",
   "metadata": {},
   "source": [
    "## Recipe\n",
    "\n",
    "### Malt Bill:\n",
    " - Pilsner Malt - Australian 2 Row (3 - 4 EBC)\n",
    " - Traditional Ale Malt - Australian 2 Row (5 - 7 EBC)\n",
    " - Crystal Malt (40 - 60 EBC)\n",
    "\n",
    "### Hops:\n",
    " - Cascade (4.5-7 Alpha Acids)\n",
    "\n",
    "### Yeast:\n",
    " - BRY97 West Coast Ale Yeast"
   ]
  },
  {
   "cell_type": "code",
   "execution_count": 1,
   "metadata": {},
   "outputs": [],
   "source": [
    "from ipywidgets import interact, fixed\n",
    "import ipywidgets as widgets"
   ]
  },
  {
   "cell_type": "code",
   "execution_count": 2,
   "metadata": {
    "scrolled": true
   },
   "outputs": [
    {
     "data": {
      "application/vnd.jupyter.widget-view+json": {
       "model_id": "5193fb47a6c8495dbcfd523fdc09c14e",
       "version_major": 2,
       "version_minor": 0
      },
      "text/plain": [
       "HBox(children=(VBox(children=(FloatText(value=4.25, description='Batch Size (L) =', style=DescriptionStyle(des…"
      ]
     },
     "metadata": {},
     "output_type": "display_data"
    }
   ],
   "source": [
    "def make_widget(value, description):\n",
    "    style = {'description_width' : '50%'}\n",
    "    return widgets.FloatText(value=value, description=description, style=style)\n",
    "\n",
    "# Create widgets\n",
    "batch_size_box = make_widget(4.25, 'Batch Size (L) =')\n",
    "grain_mass_box = make_widget(1.25, 'Total Grain Mass (kg) =')\n",
    "trub_loss_box = make_widget(0.6, 'Trub Loss (L) =')\n",
    "kettle_loss_box = make_widget(0.4, 'Kettle Loss (L) =')\n",
    "boil_time_box = make_widget(1, 'Boil Time (hr) =')\n",
    "bottle_size_box = make_widget(450, 'Bottle Size (mL) =')\n",
    "\n",
    "# Create boxes to display widgets\n",
    "left_box = widgets.VBox([batch_size_box,\n",
    "                         grain_mass_box])\n",
    "mid_box = widgets.VBox([trub_loss_box,\n",
    "                        kettle_loss_box])\n",
    "right_box = widgets.VBox([boil_time_box,\n",
    "                          bottle_size_box])\n",
    "widgets.HBox([left_box, mid_box, right_box])"
   ]
  },
  {
   "cell_type": "code",
   "execution_count": 3,
   "metadata": {},
   "outputs": [
    {
     "name": "stdout",
     "output_type": "stream",
     "text": [
      "4.25 L\n",
      "1.25 kg\n",
      "0.6 L\n",
      "0.4 L\n",
      "1.0 hr\n",
      "450 mL\n"
     ]
    }
   ],
   "source": [
    "batch_size = batch_size_box.value\n",
    "grain_mass = grain_mass_box.value\n",
    "trub_loss = trub_loss_box.value\n",
    "kettle_loss = kettle_loss_box.value\n",
    "boil_time = boil_time_box.value\n",
    "bottle_size = int(bottle_size_box.value)\n",
    "\n",
    "print(batch_size, 'L')\n",
    "print(grain_mass, 'kg')\n",
    "print(trub_loss, 'L')\n",
    "print(kettle_loss, 'L')\n",
    "print(boil_time, 'hr')\n",
    "print(bottle_size, 'mL')"
   ]
  },
  {
   "cell_type": "markdown",
   "metadata": {},
   "source": [
    "### Calculate Water amounts\n",
    "Need functions to take in batch size and work out the amounts all the way to strike water, inculding assumptions for losses etc.\n",
    "Calculations and definitions from [Mash Hacks](https://mashhacks.com/how-to-calculate-water-volumes-for-brewing/):\n",
    "\n",
    "- **Strike Water** - The starting amount of hot water (usually between 60C and 80C) that is used for the mash (adding grain to water).\n",
    "- **Grain Absorption** - The amount of water absorbed by the grain.\n",
    "- **First Runnings** - The amount of wort (sugary water) that is collected from the mash tun after your mash has finished.\n",
    "- **Sparge Water** - Water that is added to the mash tun after mashing to rinse the grain of any left over sugars.\n",
    "- **Pre-Boil Volume** - The amount of wort (sugary water) that is in your kettle before you start your boil.\n",
    "- **Evaporation Rate** - The amount of water that is boiled off. Usually in Litres per Hour (or Gal/hr).\n",
    "- **Post-Boil Volume** - The amount of wort left after you finish the boil.\n",
    "- **Kettle Loss** - The amount of wort (if any) left at the bottom of the kettle that was not transferred to the fermenter.\n",
    "- **Fermenter Volume** - The amount of wort you were able to get out of the kettle and put into the fermenter.\n",
    "- **Trub Loss** aka *Fermenter loss* - The amount of beer (if any) at the bottom of the fermenter that was not transferred into bottles or kegs.\n",
    "- **Batch Size** - The amount of beer that you were able to get out of the fermenter and put into bottles or kegs."
   ]
  },
  {
   "cell_type": "code",
   "execution_count": 4,
   "metadata": {},
   "outputs": [],
   "source": [
    "# This will be a module (file)\n",
    "class constants(object):\n",
    "    # Approximate rate of evaporation at boil (L/hr)\n",
    "    evap_rate = 3\n",
    "    # Approximate loss of volume due to grain absorption (L/kg)\n",
    "    grain_abs_rate = 1\n",
    "    # Efficiency of getting sugars from malt\n",
    "#     eff = ?????????"
   ]
  },
  {
   "cell_type": "code",
   "execution_count": 5,
   "metadata": {},
   "outputs": [],
   "source": [
    "fermenter_vol = batch_size + trub_loss\n",
    "post_boil_vol = fermenter_vol + kettle_loss\n",
    "pre_boil_vol = post_boil_vol + constants.evap_rate * boil_time\n",
    "\n",
    "strike_water = 3 * grain_mass\n",
    "grain_absorption = constants.grain_abs_rate * grain_mass\n",
    "first_runnings = strike_water - grain_absorption\n",
    "\n",
    "sparge_water = pre_boil_vol - first_runnings"
   ]
  },
  {
   "cell_type": "code",
   "execution_count": 6,
   "metadata": {},
   "outputs": [
    {
     "name": "stdout",
     "output_type": "stream",
     "text": [
      "Strike Water =  3.75\n",
      "Grain Absorption =  1.25\n",
      "First Runnings =  2.5\n",
      "Sparge Water =  5.75\n",
      "Pre-boil Volume =  8.25\n",
      "Post-boil Volume =  5.25\n",
      "Fermenter volume =  4.85\n"
     ]
    }
   ],
   "source": [
    "print('Strike Water = ', strike_water)\n",
    "print('Grain Absorption = ', grain_absorption)\n",
    "print('First Runnings = ', first_runnings)\n",
    "\n",
    "print('Sparge Water = ', sparge_water)\n",
    "\n",
    "print('Pre-boil Volume = ', pre_boil_vol)\n",
    "print('Post-boil Volume = ', post_boil_vol)\n",
    "print('Fermenter volume = ', fermenter_vol)"
   ]
  },
  {
   "cell_type": "markdown",
   "metadata": {},
   "source": [
    "### Calculate Expected Original Gravity"
   ]
  },
  {
   "cell_type": "code",
   "execution_count": 7,
   "metadata": {},
   "outputs": [
    {
     "name": "stdout",
     "output_type": "stream",
     "text": [
      "4.25 L; 1.25 kg\n"
     ]
    }
   ],
   "source": [
    "print(batch_size, 'L;', grain_mass, 'kg')"
   ]
  },
  {
   "cell_type": "markdown",
   "metadata": {},
   "source": [
    "Mash Efficiency - from https://aussiehomebrewer.com/threads/working-out-mash-efficiency-in-metric.35490/\n",
    "\n",
    "How it works is all malts and adjuncts etc give a different gravity. \n",
    "The specs are all written as H.W.E which is hot water extract with sugar being the highest at 386 so everything else is given as a % of that. ie, pale malt is around 81% which gives you around 309. this is the total gravity you can get with 1 kilo in 1 litre but it is impossible to get this, this is 100% effeincy.\n",
    "the same goes for american calcs but its in P.P.G which is the gravity of 1 pound in 1 gallon. The same specs are used ie. 81% for pale malt gives you 37 points of gravity.\n",
    "\n",
    "So a simple example to work out total potential for 5 kg of pale malt in 23 litres is\n",
    "5 x 309 / 23 = 67 (1.067)\n",
    "\n",
    "now to work out your effiency you divide the gravity you got with this brew. Say you got 1.050 so 50/67 =.74 you got 74% effiency.\n",
    "Then next time when you do the calc. 5 x 309 /23 =you simply times this by .74 .\n",
    "This gives you your expected gravity, \n",
    "\n",
    "For your first batches i would stick to using 60-65%.\n",
    "So do the 5 x 309/ 23 = 67.\n",
    "then times 67 by .65 = 43(1.043)\n",
    "\n",
    "\n",
    "am i making any sense here\n",
    "Jayse\n",
    "\n",
    "p.s the hwe numbers are all on the malt craft site other malts like crystal malt are around 75% some malts can be lower and some higher.\n",
    "to get the number times 386 by the percent as a decimal point ie pale malt at 81% gives you 386 x .81 =312 \n",
    "\n",
    "Ale -------81% X 386 = 312\n",
    "Pilsner----------------81%\n",
    "Hoepfner Munich----80% 308\n",
    "Melanoiden--------- -80%\n",
    "Caramalt pils---------79% 305\n",
    "Crystal---------------- 75%\n",
    "\n",
    "Well, it's the method you will see in Australia. \n",
    "\n",
    "Say the HWE is 308 litre degrees per kilogram for a malt. \n",
    "That means 5kg in 20L will give you : (308 x 5)/20 = 77. i.e. 1.077 SG at 100% efficiency. Multiply that by your efficiency (eg. 75%) gives you 77 x 0.75 = 57.75 or close enough to 1.058."
   ]
  },
  {
   "cell_type": "code",
   "execution_count": 8,
   "metadata": {},
   "outputs": [
    {
     "data": {
      "text/plain": [
       "2.4000000000000004"
      ]
     },
     "execution_count": 8,
     "metadata": {},
     "output_type": "execute_result"
    }
   ],
   "source": [
    "7.5-5.1"
   ]
  },
  {
   "cell_type": "code",
   "execution_count": 9,
   "metadata": {},
   "outputs": [
    {
     "name": "stdout",
     "output_type": "stream",
     "text": [
      "Final alcohol percentage = 6.0% ABV\n",
      "2.2 Standard Drinks per 450mL bottle\n"
     ]
    }
   ],
   "source": [
    "# Swapped strike and sparge waters\n",
    "malt = {\n",
    "    '2-Row' : 1.015,\n",
    "    'Crystal' : 250\n",
    "}\n",
    "hops = {\n",
    "    '60m' : 6,\n",
    "    '30m' : 6,\n",
    "    '5m' : 6,\n",
    "    'Dry' : 4\n",
    "}\n",
    "\n",
    "water_gravity = 1.003\n",
    "original_gravity = 1.056\n",
    "final_gravity = 1.01\n",
    "\n",
    "prc_vol = (original_gravity - final_gravity) * 131.25\n",
    "std_drinks = bottle_size * (prc_vol/100) / 12.5\n",
    "\n",
    "print(f\"Final alcohol percentage = {prc_vol:.2}% ABV\")\n",
    "print(f\"{std_drinks:.2} Standard Drinks per {bottle_size}mL bottle\")"
   ]
  },
  {
   "cell_type": "markdown",
   "metadata": {},
   "source": [
    "### Calculate IBU"
   ]
  },
  {
   "cell_type": "markdown",
   "metadata": {},
   "source": [
    "http://www.backtoschoolbrewing.com/blog/2016/9/5/how-to-calculate-ibus\n",
    "\n",
    "http://www.realbeer.com/hops/research.html\n",
    "\n",
    "To calculate IBUs, the formula is simple:\n",
    "\n",
    "IBUs = decimal alpha acid utilization * mg/l of added alpha acids\n",
    "\n",
    "To calculate the concentration of alpha acids you add to the wort:\n",
    "\n",
    "mg/l of added alpha acids = decimal AA rating * grams hops * 1000 / volume of finished beer in liters\n",
    "\n",
    "or for those of you not using metric units:\n",
    "\n",
    "mg/l of added alpha acids = decimal AA rating * ozs hops * 7490 / volume of finished beer in gallons \n",
    "\n",
    "You can look up the decimal alpha acid utilization in the utilization table below or calculate it directly using the Bigness factor and the Boil Time factor.\n",
    "\n",
    "decimal alpha acid utilization = Bigness factor * Boil Time factor\n",
    "\n",
    "\n",
    "The Bigness factor accounts for reduced utilization due to higher wort gravities. Use an average gravity value for the entire boil to account for changes in the wort volume.\n",
    "\n",
    "Bigness factor = 1.65 * 0.000125^(wort gravity - 1)\n",
    "\n",
    "The Boil Time factor accounts for the change in utilization due to boil time:\n",
    "\n",
    "Boil Time factor = 1 - e^(-0.04 * time in mins) / 4.15\n"
   ]
  },
  {
   "cell_type": "markdown",
   "metadata": {},
   "source": [
    "### Calculate EBC"
   ]
  },
  {
   "cell_type": "markdown",
   "metadata": {},
   "source": [
    "http://beersmith.com/blog/2008/04/29/beer-color-understanding-srm-lovibond-and-ebc/\n",
    "\n",
    "http://homebrewtechniques.com/mashing/how-do-you-calculate-beer-colour/\n",
    "\n",
    "The calculation we use to work out the colour value for our beer is:\n",
    "\n",
    "MCU = weight of malt (in lbs) x malt colour (in lovibond) / volume (in gallons)\n",
    "\n",
    "(lovibond = SRM)\n",
    "\n",
    "To convert our recipe from kg and litres into US gallons and lbs we use the following conversion factors:\n",
    "\n",
    "1 litre = 0.264172 US gallons\n",
    "\n",
    "1 kg = 2.20462 lbs.\n",
    "\n",
    "SRM = 1.4922 * MCU^0.6859\n",
    "\n",
    "EBC = 1.97 * SRM "
   ]
  },
  {
   "cell_type": "code",
   "execution_count": 27,
   "metadata": {},
   "outputs": [
    {
     "data": {
      "text/plain": [
       "28.33786046365833"
      ]
     },
     "execution_count": 27,
     "metadata": {},
     "output_type": "execute_result"
    }
   ],
   "source": [
    "def ebc(grain_mass, malt_colour, batch_size):\n",
    "    return 1.97 * (1.4922 * ((grain_mass*2.2*malt_colour/1.97)/(batch_size*0.264172))**0.6859)\n",
    "\n",
    "ebc(0.51, 3.5, 4) + ebc(0.505, 6, 4) + ebc(0.250, 50, 4)"
   ]
  },
  {
   "cell_type": "code",
   "execution_count": null,
   "metadata": {},
   "outputs": [],
   "source": []
  }
 ],
 "metadata": {
  "kernelspec": {
   "display_name": "Python 3",
   "language": "python",
   "name": "python3"
  },
  "language_info": {
   "codemirror_mode": {
    "name": "ipython",
    "version": 3
   },
   "file_extension": ".py",
   "mimetype": "text/x-python",
   "name": "python",
   "nbconvert_exporter": "python",
   "pygments_lexer": "ipython3",
   "version": "3.6.6"
  }
 },
 "nbformat": 4,
 "nbformat_minor": 2
}
