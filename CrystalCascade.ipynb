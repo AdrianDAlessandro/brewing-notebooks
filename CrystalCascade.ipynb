{
 "cells": [
  {
   "cell_type": "markdown",
   "metadata": {},
   "source": [
    "# Crystal Cascade\n",
    "A Sierra Nevada/Little Creatures inspired American Pale Ale\n",
    "Pretty much the same as this [Basic Cascade](https://www.brewtoad.com/recipes/basic-cascade-584c84) I came accross after I'd started this recipe."
   ]
  },
  {
   "cell_type": "markdown",
   "metadata": {},
   "source": [
    "## Recipe\n",
    "\n",
    "### Malt Bill:\n",
    " - Pilsner Malt - 2 Row (?EBC)\n",
    " - Australian Ale Malt - 2 Row (?EBC)\n",
    " - Crystal Malt (?EBC)\n",
    "\n",
    "### Hops:\n",
    " - Cascade (?Alpha Acids)"
   ]
  },
  {
   "cell_type": "markdown",
   "metadata": {},
   "source": [
    "Make a widget window for all the inputs"
   ]
  },
  {
   "cell_type": "code",
   "execution_count": 1,
   "metadata": {},
   "outputs": [],
   "source": [
    "from ipywidgets import interact, fixed\n",
    "import ipywidgets as widgets"
   ]
  },
  {
   "cell_type": "code",
   "execution_count": 2,
   "metadata": {},
   "outputs": [
    {
     "data": {
      "application/vnd.jupyter.widget-view+json": {
       "model_id": "3a34a3ea9cec4fafa78e11219d56ffaa",
       "version_major": 2,
       "version_minor": 0
      },
      "text/plain": [
       "HBox(children=(VBox(children=(FloatText(value=5.0, description='Batch Size (L) =', style=DescriptionStyle(desc…"
      ]
     },
     "metadata": {},
     "output_type": "display_data"
    }
   ],
   "source": [
    "def make_widget(value, description):\n",
    "    style = {'description_width' : '50%'}\n",
    "    return widgets.FloatText(value=value, description=description, style=style)\n",
    "\n",
    "\n",
    "batch_size_box = make_widget(5, 'Batch Size (L) =')\n",
    "malt_mass_box = make_widget(1, 'Total Malt Mass (kg) =')\n",
    "\n",
    "words = ['correct', 'horse', 'battery', 'staple']\n",
    "items = [widgets.FloatText(description=w) for w in words]\n",
    "left_box = widgets.VBox([batch_size_box,\n",
    "                         malt_mass_box])\n",
    "mid_box = widgets.VBox([items[0],\n",
    "                        items[1]])\n",
    "right_box = widgets.VBox([items[2],\n",
    "                          items[3]])\n",
    "widgets.HBox([left_box, mid_box, right_box])"
   ]
  },
  {
   "cell_type": "markdown",
   "metadata": {},
   "source": [
    "### Calculate Water amounts\n",
    "Need functions to take in batch size and work out the amounts all the way to strike water, inculding assumptions for losses etc.\n",
    "Calculations and definitions from [Mash Hacks](https://mashhacks.com/how-to-calculate-water-volumes-for-brewing/):\n",
    "\n",
    "- **Strike Water** - The starting amount of hot water (usually between 60C and 80C) that is used for the mash (adding grain to water).\n",
    "- **Grain Absorption** - The amount of water absorbed by the grain.\n",
    "- **First Runnings** - The amount of wort (sugary water) that is collected from the mash tun after your mash has finished.\n",
    "- **Sparge Water** - Water that is added to the mash tun after mashing to rinse the grain of any left over sugars.\n",
    "- **Pre-Boil Volume** - The amount of wort (sugary water) that is in your kettle before you start your boil.\n",
    "- **Evaporation Rate** - The amount of water that is boiled off. Usually in Litres per Hour (or Gal/hr).\n",
    "- **Post-Boil Volume** - The amount of wort left after you finish the boil.\n",
    "- **Kettle Loss** - The amount of wort (if any) left at the bottom of the kettle that was not transferred to the fermenter.\n",
    "- **Fermenter Volume** - The amount of wort you were able to get out of the kettle and put into the fermenter.\n",
    "- **Trub Loss** aka *Fermenter loss* - The amount of beer (if any) at the bottom of the fermenter that was not transferred into bottles or kegs.\n",
    "- **Batch Size** - The amount of beer that you were able to get out of the fermenter and put into bottles or kegs.\n",
    "\n",
    "Batch Size: 20L (5 gal)\n",
    "\n",
    "Fermenter Volume = Batch Size + Trub Loss \n",
    "Fermenter Volume = 20L (5 gal) + 1L (0.25 gal) = 21L (5.25 gal)\n",
    "\n",
    "Post-Boil Volume = Fermenter Volume + Kettle Loss \n",
    "Post-Boil Volume = 21L (5.25 gal) + 0L (0.00 gal) = 21L (5.25 gal)\n",
    "\n",
    "Evaporation rates vary quite wildly from system to system, so you'll only know your rate once you've tried. A nice guess would be 5L/hr (1.25 gal/hr), but remember to measure this yourself! We'll use 3L/hr (0.75 gal/hr) for this example.\n",
    "\n",
    "Pre-Boil Volume = Post-Boil Volume + (Evaporation Rate x Boil Length in Hours) \n",
    "Pre-Boil Volume = 21L (5.25 gal) + (3L/hr (0.75 gal/hr) x 1) = 24L (6 gal)\n",
    "\n",
    "First we need to figure out how much strike water we'll need. The amount of strike water you need depends on how much grain you have in your grain bill (aka grist). This one is more of a guide towards best practice mash thickness, but you can alter to suit your needs. In this example we'll have 6kg grain, or 14 pounds for imperial.\n",
    "\n",
    "Metric \n",
    "Strike Water (L) = Grain Weight (kg) x 3 \n",
    "Strike Water = 6 x 3 = 18L\n",
    "\n",
    "Imperial \n",
    "Strike Water (quarts) = Grain Weight (pounds) x 1.25 \n",
    "Strike Water = 14 x 1.25 = 17.5 quarts = ~4.5 gal\n",
    "\n",
    "Metric \n",
    "Grain Absorption = 1 L/Kg \n",
    "Grain Absorption = 6L\n",
    "\n",
    "Imperial \n",
    "Grain Absorption = 1 pint/pound \n",
    "Grain Absorption = 14 pints = ~1.5 gal\n",
    "\n",
    "To calculate our first runnings, simply remove the grain absorption volume from your strike volume.\n",
    "\n",
    "First Runnings = Strike Volume - Grain Absorption \n",
    "First Runnings = 18L (4.5 gal) - 6L (1.5 gal) = 12L (3 gal)\n",
    "\n",
    "Sparge Water = Pre-Boil Volume - First Runnings \n",
    "Sparge Water = 24L (6 gal) - 12L (3 gal) = 12L (3 gal)"
   ]
  },
  {
   "cell_type": "code",
   "execution_count": 3,
   "metadata": {},
   "outputs": [
    {
     "name": "stdout",
     "output_type": "stream",
     "text": [
      "5.0 L\n"
     ]
    }
   ],
   "source": [
    "batch_size = batch_size_box.value\n",
    "print(batch_size, 'L')"
   ]
  },
  {
   "cell_type": "code",
   "execution_count": 4,
   "metadata": {},
   "outputs": [
    {
     "ename": "SyntaxError",
     "evalue": "invalid syntax (<ipython-input-4-2db0755751a1>, line 4)",
     "output_type": "error",
     "traceback": [
      "\u001b[1;36m  File \u001b[1;32m\"<ipython-input-4-2db0755751a1>\"\u001b[1;36m, line \u001b[1;32m4\u001b[0m\n\u001b[1;33m    evap_rate = ????????????\u001b[0m\n\u001b[1;37m                ^\u001b[0m\n\u001b[1;31mSyntaxError\u001b[0m\u001b[1;31m:\u001b[0m invalid syntax\n"
     ]
    }
   ],
   "source": [
    "# This will be a module (file)\n",
    "class constants(object):\n",
    "    # Approximate rate of evaporation at boil (L/hr)\n",
    "    evap_rate = 5\n",
    "    # Approximate loss of volume due to grain absorption\n",
    "    grain_disp = ????????????\n",
    "    # Efficiency of getting sugars from malt\n",
    "    eff = ?????????"
   ]
  },
  {
   "cell_type": "code",
   "execution_count": null,
   "metadata": {},
   "outputs": [],
   "source": [
    "def strike_water():\n",
    "    pass\n",
    "def pre_boil_volume():\n",
    "    pass\n",
    "def post_boil_volume():\n",
    "    return pre_boil_volume() - evaporation(time)\n",
    "def evaporation(time=1):\n",
    "    \"\"\" Returns evaporation (L) for a given boil time (hrs) \"\"\"\n",
    "    return time * constants.evap_rate"
   ]
  },
  {
   "cell_type": "markdown",
   "metadata": {},
   "source": [
    "### Calculate Expected Original Gravity"
   ]
  },
  {
   "cell_type": "code",
   "execution_count": null,
   "metadata": {},
   "outputs": [],
   "source": [
    "malt_mass = malt_mass_box.value\n",
    "print(batch_size, 'L;', malt_mass, 'kg')"
   ]
  },
  {
   "cell_type": "code",
   "execution_count": null,
   "metadata": {},
   "outputs": [],
   "source": []
  }
 ],
 "metadata": {
  "kernelspec": {
   "display_name": "Python 3",
   "language": "python",
   "name": "python3"
  },
  "language_info": {
   "codemirror_mode": {
    "name": "ipython",
    "version": 3
   },
   "file_extension": ".py",
   "mimetype": "text/x-python",
   "name": "python",
   "nbconvert_exporter": "python",
   "pygments_lexer": "ipython3",
   "version": "3.6.5"
  }
 },
 "nbformat": 4,
 "nbformat_minor": 2
}
