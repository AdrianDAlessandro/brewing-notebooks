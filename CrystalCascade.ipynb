{
 "cells": [
  {
   "cell_type": "markdown",
   "metadata": {},
   "source": [
    "# Crystal Cascade\n",
    "A very simple American Pale Ale.\n",
    "\n",
    "Lightly bitter with a strong malty backbone"
   ]
  },
  {
   "cell_type": "markdown",
   "metadata": {},
   "source": [
    "## Recipe\n",
    "\n",
    "### Malt Bill:\n",
    " - Pilsner Malt - Australian 2 Row (3 - 4 EBC)\n",
    " - Traditional Ale Malt - Australian 2 Row (5 - 7 EBC)\n",
    " - Crystal Malt (40 - 60 EBC)\n",
    "\n",
    "### Hops:\n",
    " - Cascade (4.5-7 Alpha Acids)\n",
    "\n",
    "### Yeast:\n",
    " - BRY97 West Coast Ale Yeast\n",
    "\n",
    "### Fermentation:\n",
    " - 3 weeks under 18C\n",
    " - 3 weeks in bottles"
   ]
  },
  {
   "cell_type": "code",
   "execution_count": 1,
   "metadata": {},
   "outputs": [],
   "source": [
    "from ipywidgets import interact, fixed\n",
    "import ipywidgets as widgets\n",
    "from brewing import BeerRecipe"
   ]
  },
  {
   "cell_type": "code",
   "execution_count": 2,
   "metadata": {
    "scrolled": true
   },
   "outputs": [
    {
     "data": {
      "application/vnd.jupyter.widget-view+json": {
       "model_id": "0fe484c70b184aa8851f5d55139abdd8",
       "version_major": 2,
       "version_minor": 0
      },
      "text/plain": [
       "HBox(children=(VBox(children=(FloatText(value=4.0, description='Batch Size (L) =', style=DescriptionStyle(desc…"
      ]
     },
     "metadata": {},
     "output_type": "display_data"
    }
   ],
   "source": [
    "def make_widget(value, description):\n",
    "    style = {'description_width' : '50%'}\n",
    "    return widgets.FloatText(value=value, description=description, style=style)\n",
    "\n",
    "# Create widgets\n",
    "batch_size_box = make_widget(4, 'Batch Size (L) =')\n",
    "name_box = widgets.Text(value=\"Crystal Cascade\", description=\"Beer Name\")\n",
    "yeast_box = widgets.Text(value=\"BRY97 West Coast Ale Yeast\", description=\"Yeast Name\")\n",
    "\n",
    "# Create boxes to display widgets\n",
    "left_box = widgets.VBox([batch_size_box])\n",
    "mid_box = widgets.VBox([name_box])\n",
    "right_box = widgets.VBox([yeast_box])\n",
    "\n",
    "widgets.HBox([left_box, mid_box, right_box])"
   ]
  },
  {
   "cell_type": "code",
   "execution_count": 3,
   "metadata": {},
   "outputs": [],
   "source": [
    "beer = BeerRecipe(\n",
    "    name=name_box.value,\n",
    "    batch_size=batch_size_box.value,\n",
    "    yeast=yeast_box.value\n",
    ")"
   ]
  },
  {
   "cell_type": "code",
   "execution_count": 4,
   "metadata": {},
   "outputs": [],
   "source": [
    "malt = {\n",
    "    'Pilsner' : {\n",
    "        'Mass' : 0.51,\n",
    "        'HWE' : 0.8,\n",
    "        'EBC' : 3.5\n",
    "    },\n",
    "    'Ale' : {\n",
    "        'Mass' : 0.505,\n",
    "        'HWE' : 0.8,\n",
    "        'EBC' : 6\n",
    "    },\n",
    "    'Crystal' : {\n",
    "        'Mass' : 0.25,\n",
    "        'HWE' : 0.75,\n",
    "        'EBC' : 50\n",
    "    },\n",
    "}\n",
    "hops = {\n",
    "    'Cascade' : {\n",
    "        \"Alpha Acids\" : 5.5,\n",
    "        \"Masses\" : [6, 6, 6, 4],\n",
    "        \"Times\" : [60, 30, 5, 0]\n",
    "    },\n",
    "}\n",
    "\n",
    "beer.malt = malt\n",
    "beer.hops = hops\n",
    "\n",
    "beer.save_recipe('CrystalCascade.json')"
   ]
  },
  {
   "cell_type": "code",
   "execution_count": 5,
   "metadata": {},
   "outputs": [
    {
     "data": {
      "text/plain": [
       "{'Malt': {'Pilsner': {'Mass': 0.51, 'HWE': 0.8, 'EBC': 3.5},\n",
       "  'Ale': {'Mass': 0.505, 'HWE': 0.8, 'EBC': 6},\n",
       "  'Crystal': {'Mass': 0.25, 'HWE': 0.75, 'EBC': 50}},\n",
       " 'Hops': {'Cascade': {'Alpha Acids': 5.5,\n",
       "   'Masses': [6, 6, 6, 4],\n",
       "   'Times': [60, 30, 5, 0]}},\n",
       " 'Yeast': 'BRY97 West Coast Ale Yeast',\n",
       " 'Strike Water': 3.7950000000000004,\n",
       " 'Sparge Water': 5.07,\n",
       " 'Original Gravity': 1.05,\n",
       " 'Final Gravity': 1.0125,\n",
       " 'Priming Sugar': 11.340000000000002,\n",
       " 'Batch Size': 4.0,\n",
       " 'Boil Time': 60,\n",
       " 'IBU': 37.4483177510464,\n",
       " 'EBC': 28.33786046365833}"
      ]
     },
     "execution_count": 5,
     "metadata": {},
     "output_type": "execute_result"
    }
   ],
   "source": [
    "beer.read_recipe('CrystalCascade.json')"
   ]
  },
  {
   "cell_type": "code",
   "execution_count": 6,
   "metadata": {},
   "outputs": [
    {
     "name": "stdout",
     "output_type": "stream",
     "text": [
      "Crystal Cascade Brewing Instructions\n",
      "\n",
      "Malt Bill:\n",
      "\t0.510kg of Pilsner (0.8HWE and 3.5EBC)\n",
      "\t0.505kg of Ale (0.8HWE and 6EBC)\n",
      "\t0.250kg of Crystal (0.75HWE and 50EBC)\n",
      "Hops:\n",
      "\tCascade (5.5% AA):\n",
      "\t\t 6g at 60 minutes\n",
      "\t\t 6g at 30 minutes\n",
      "\t\t 6g at  5 minutes\n",
      "\t\t 4g at  0 minutes\n",
      "Yeast:\n",
      "\tBRY97 West Coast Ale Yeast\n"
     ]
    }
   ],
   "source": [
    "print(beer)"
   ]
  },
  {
   "cell_type": "markdown",
   "metadata": {},
   "source": [
    "### Actual Measurements"
   ]
  },
  {
   "cell_type": "code",
   "execution_count": 7,
   "metadata": {},
   "outputs": [],
   "source": [
    "original_gravity = 1.056\n",
    "final_gravity = 1.01"
   ]
  },
  {
   "cell_type": "code",
   "execution_count": null,
   "metadata": {},
   "outputs": [],
   "source": []
  }
 ],
 "metadata": {
  "kernelspec": {
   "display_name": "Python 3",
   "language": "python",
   "name": "python3"
  },
  "language_info": {
   "codemirror_mode": {
    "name": "ipython",
    "version": 3
   },
   "file_extension": ".py",
   "mimetype": "text/x-python",
   "name": "python",
   "nbconvert_exporter": "python",
   "pygments_lexer": "ipython3",
   "version": "3.6.6"
  },
  "widgets": {
   "application/vnd.jupyter.widget-state+json": {
    "state": {
     "19dc39799a824190be7caff2ac6aa2df": {
      "model_module": "@jupyter-widgets/base",
      "model_module_version": "1.1.0",
      "model_name": "LayoutModel",
      "state": {}
     },
     "200156a764d14aa588c52fade0150c15": {
      "model_module": "@jupyter-widgets/controls",
      "model_module_version": "1.4.0",
      "model_name": "DescriptionStyleModel",
      "state": {
       "description_width": "50%"
      }
     },
     "24424a3a598b47c1bb9fc0be668d06f0": {
      "model_module": "@jupyter-widgets/controls",
      "model_module_version": "1.4.0",
      "model_name": "HBoxModel",
      "state": {
       "children": [
        "IPY_MODEL_fa41aba93bdf4e58b9b42c191b822952",
        "IPY_MODEL_cf99ee7d191f454d819aea71e610d596",
        "IPY_MODEL_c8103421bc0445139f6b45d701b9447b"
       ],
       "layout": "IPY_MODEL_a5e718160708486781f9b63be409149e"
      }
     },
     "331c7da2e7c74ec9b7592f62a28babf5": {
      "model_module": "@jupyter-widgets/controls",
      "model_module_version": "1.4.0",
      "model_name": "FloatTextModel",
      "state": {
       "description": "Kettle Loss (L) =",
       "layout": "IPY_MODEL_7645ea63f8e5438c8a6f02190b41f3a1",
       "step": null,
       "style": "IPY_MODEL_33b3cc9c4d0347bd9f082ca05f364f57",
       "value": 0.4
      }
     },
     "33b3cc9c4d0347bd9f082ca05f364f57": {
      "model_module": "@jupyter-widgets/controls",
      "model_module_version": "1.4.0",
      "model_name": "DescriptionStyleModel",
      "state": {
       "description_width": "50%"
      }
     },
     "3887c559126d4a168728dda6c34fcf6f": {
      "model_module": "@jupyter-widgets/controls",
      "model_module_version": "1.4.0",
      "model_name": "DescriptionStyleModel",
      "state": {
       "description_width": "50%"
      }
     },
     "5bd48161d44140ce8f6b968bf552f463": {
      "model_module": "@jupyter-widgets/base",
      "model_module_version": "1.1.0",
      "model_name": "LayoutModel",
      "state": {}
     },
     "6712d704f5d14f579d72737955eb7a6f": {
      "model_module": "@jupyter-widgets/base",
      "model_module_version": "1.1.0",
      "model_name": "LayoutModel",
      "state": {}
     },
     "68f5ac75ba0d4759ba3d9cdc0db8db1b": {
      "model_module": "@jupyter-widgets/controls",
      "model_module_version": "1.4.0",
      "model_name": "FloatTextModel",
      "state": {
       "description": "Total Grain Mass (kg) =",
       "layout": "IPY_MODEL_9d63de8ac14747079beb2d23b642f286",
       "step": null,
       "style": "IPY_MODEL_77a40b572d9f48df995bd2b57a81e332",
       "value": 1.25
      }
     },
     "7645ea63f8e5438c8a6f02190b41f3a1": {
      "model_module": "@jupyter-widgets/base",
      "model_module_version": "1.1.0",
      "model_name": "LayoutModel",
      "state": {}
     },
     "77a40b572d9f48df995bd2b57a81e332": {
      "model_module": "@jupyter-widgets/controls",
      "model_module_version": "1.4.0",
      "model_name": "DescriptionStyleModel",
      "state": {
       "description_width": "50%"
      }
     },
     "78d06ecf56804229ac82bb803bfc9a6e": {
      "model_module": "@jupyter-widgets/controls",
      "model_module_version": "1.4.0",
      "model_name": "DescriptionStyleModel",
      "state": {
       "description_width": "50%"
      }
     },
     "7963bb9caf8a413cb3b911f89e210e83": {
      "model_module": "@jupyter-widgets/controls",
      "model_module_version": "1.4.0",
      "model_name": "DescriptionStyleModel",
      "state": {
       "description_width": "50%"
      }
     },
     "8757d07fbb48408980f19d26b849e176": {
      "model_module": "@jupyter-widgets/controls",
      "model_module_version": "1.4.0",
      "model_name": "FloatTextModel",
      "state": {
       "description": "Boil Time (hr) =",
       "layout": "IPY_MODEL_f82562aaa3e84fe9b1d0e957cdd97439",
       "step": null,
       "style": "IPY_MODEL_3887c559126d4a168728dda6c34fcf6f",
       "value": 1
      }
     },
     "91ed08ad85544412974568c54493a742": {
      "model_module": "@jupyter-widgets/base",
      "model_module_version": "1.1.0",
      "model_name": "LayoutModel",
      "state": {}
     },
     "9b95c8b95b7742dcb9fc5cc25bc454b8": {
      "model_module": "@jupyter-widgets/controls",
      "model_module_version": "1.4.0",
      "model_name": "FloatTextModel",
      "state": {
       "description": "Batch Size (L) =",
       "layout": "IPY_MODEL_6712d704f5d14f579d72737955eb7a6f",
       "step": null,
       "style": "IPY_MODEL_7963bb9caf8a413cb3b911f89e210e83",
       "value": 4.25
      }
     },
     "9d63de8ac14747079beb2d23b642f286": {
      "model_module": "@jupyter-widgets/base",
      "model_module_version": "1.1.0",
      "model_name": "LayoutModel",
      "state": {}
     },
     "a5e718160708486781f9b63be409149e": {
      "model_module": "@jupyter-widgets/base",
      "model_module_version": "1.1.0",
      "model_name": "LayoutModel",
      "state": {}
     },
     "a7f933d01abb41c885fbcda05f418375": {
      "model_module": "@jupyter-widgets/controls",
      "model_module_version": "1.4.0",
      "model_name": "FloatTextModel",
      "state": {
       "description": "Bottle Size (mL) =",
       "layout": "IPY_MODEL_e5f91db082d44fc2bdf2bd99bd686fbd",
       "step": null,
       "style": "IPY_MODEL_78d06ecf56804229ac82bb803bfc9a6e",
       "value": 450
      }
     },
     "c8103421bc0445139f6b45d701b9447b": {
      "model_module": "@jupyter-widgets/controls",
      "model_module_version": "1.4.0",
      "model_name": "VBoxModel",
      "state": {
       "children": [
        "IPY_MODEL_8757d07fbb48408980f19d26b849e176",
        "IPY_MODEL_a7f933d01abb41c885fbcda05f418375"
       ],
       "layout": "IPY_MODEL_5bd48161d44140ce8f6b968bf552f463"
      }
     },
     "ce3a32d651684adc968e5759737a8e55": {
      "model_module": "@jupyter-widgets/controls",
      "model_module_version": "1.4.0",
      "model_name": "FloatTextModel",
      "state": {
       "description": "Trub Loss (L) =",
       "layout": "IPY_MODEL_eed06cc12c4c4ce495aaf13c9ac1fe9c",
       "step": null,
       "style": "IPY_MODEL_200156a764d14aa588c52fade0150c15",
       "value": 0.6
      }
     },
     "cf99ee7d191f454d819aea71e610d596": {
      "model_module": "@jupyter-widgets/controls",
      "model_module_version": "1.4.0",
      "model_name": "VBoxModel",
      "state": {
       "children": [
        "IPY_MODEL_ce3a32d651684adc968e5759737a8e55",
        "IPY_MODEL_331c7da2e7c74ec9b7592f62a28babf5"
       ],
       "layout": "IPY_MODEL_91ed08ad85544412974568c54493a742"
      }
     },
     "e5f91db082d44fc2bdf2bd99bd686fbd": {
      "model_module": "@jupyter-widgets/base",
      "model_module_version": "1.1.0",
      "model_name": "LayoutModel",
      "state": {}
     },
     "eed06cc12c4c4ce495aaf13c9ac1fe9c": {
      "model_module": "@jupyter-widgets/base",
      "model_module_version": "1.1.0",
      "model_name": "LayoutModel",
      "state": {}
     },
     "f82562aaa3e84fe9b1d0e957cdd97439": {
      "model_module": "@jupyter-widgets/base",
      "model_module_version": "1.1.0",
      "model_name": "LayoutModel",
      "state": {}
     },
     "fa41aba93bdf4e58b9b42c191b822952": {
      "model_module": "@jupyter-widgets/controls",
      "model_module_version": "1.4.0",
      "model_name": "VBoxModel",
      "state": {
       "children": [
        "IPY_MODEL_9b95c8b95b7742dcb9fc5cc25bc454b8",
        "IPY_MODEL_68f5ac75ba0d4759ba3d9cdc0db8db1b"
       ],
       "layout": "IPY_MODEL_19dc39799a824190be7caff2ac6aa2df"
      }
     }
    },
    "version_major": 2,
    "version_minor": 0
   }
  }
 },
 "nbformat": 4,
 "nbformat_minor": 2
}
