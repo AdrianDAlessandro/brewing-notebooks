{
 "cells": [
  {
   "cell_type": "markdown",
   "metadata": {},
   "source": [
    "# Crystal Cascade\n",
    "A Sierra Nevada/Little Creatures inspired American Pale Ale"
   ]
  },
  {
   "cell_type": "markdown",
   "metadata": {},
   "source": [
    "## Recipe\n",
    "\n",
    "### Malt Bill:\n",
    " - Pilsner Malt - 2 Row (?EBC)\n",
    " - Australian Ale Malt - 2 Row (?EBC)\n",
    " - Crystal Malt (?EBC)\n",
    "\n",
    "### Hops:\n",
    " - Cascade (?Alpha Acids)"
   ]
  },
  {
   "cell_type": "markdown",
   "metadata": {},
   "source": [
    "Make a widget window for all the inputs"
   ]
  },
  {
   "cell_type": "code",
   "execution_count": 1,
   "metadata": {},
   "outputs": [],
   "source": [
    "from ipywidgets import interact, fixed\n",
    "import ipywidgets as widgets"
   ]
  },
  {
   "cell_type": "code",
   "execution_count": 27,
   "metadata": {},
   "outputs": [],
   "source": [
    "?malt_mass_box.style"
   ]
  },
  {
   "cell_type": "code",
   "execution_count": 58,
   "metadata": {},
   "outputs": [
    {
     "data": {
      "application/vnd.jupyter.widget-view+json": {
       "model_id": "683f49d84ca9406c91bd28b1257b4afc",
       "version_major": 2,
       "version_minor": 0
      },
      "text/plain": [
       "HBox(children=(VBox(children=(FloatText(value=5.0, description='Batch Size (L) =', style=DescriptionStyle(desc…"
      ]
     },
     "metadata": {},
     "output_type": "display_data"
    }
   ],
   "source": [
    "def make_widget(value, description):\n",
    "    style = {'description_width' : '50%'}\n",
    "    return widgets.FloatText(value=value, description=description, style=style)\n",
    "\n",
    "\n",
    "batch_size_box = make_widget(5, 'Batch Size (L) =')\n",
    "malt_mass_box = make_widget(1, 'Total Malt Mass (kg) =')\n",
    "\n",
    "words = ['correct', 'horse', 'battery', 'staple']\n",
    "items = [widgets.FloatText(description=w) for w in words]\n",
    "left_box = widgets.VBox([batch_size_box,\n",
    "                         malt_mass_box])\n",
    "mid_box = widgets.VBox([items[0],\n",
    "                        items[1]])\n",
    "right_box = widgets.VBox([items[2],\n",
    "                          items[3]])\n",
    "widgets.HBox([left_box, mid_box, right_box])"
   ]
  },
  {
   "cell_type": "markdown",
   "metadata": {},
   "source": [
    "### Calculate Water amounts\n",
    "Need functions to take in batch size and work out the amounts all the way to strike water, inculding assumptions for losses"
   ]
  },
  {
   "cell_type": "code",
   "execution_count": 65,
   "metadata": {},
   "outputs": [
    {
     "name": "stdout",
     "output_type": "stream",
     "text": [
      "5.0 L\n"
     ]
    }
   ],
   "source": [
    "batch_size = batch_size_box.value\n",
    "print(batch_size, 'L')"
   ]
  },
  {
   "cell_type": "code",
   "execution_count": null,
   "metadata": {},
   "outputs": [],
   "source": [
    "# This will be a module (file)\n",
    "class constants(object):\n",
    "    # Approximate rate of evaporation at boil (L/hr)\n",
    "    evap_rate = ????????????\n",
    "    # Approximate loss of volume due to grain absorption\n",
    "    grain_disp = ????????????\n",
    "    # Efficiency of getting sugars from malt\n",
    "    eff = ?????????"
   ]
  },
  {
   "cell_type": "code",
   "execution_count": null,
   "metadata": {},
   "outputs": [],
   "source": [
    "def strike_water():\n",
    "    pass\n",
    "def pre_boil_volume():\n",
    "    pass\n",
    "def post_boil_volume():\n",
    "    return pre_boil_volume() - evaporation(time)\n",
    "def evaporation(time=1):\n",
    "    \"\"\" Returns evaporation (L) for a given boil time (hrs) \"\"\"\n",
    "    return time * constants.evap_rate"
   ]
  },
  {
   "cell_type": "markdown",
   "metadata": {},
   "source": [
    "### Calculate Expected Original Gravity"
   ]
  },
  {
   "cell_type": "code",
   "execution_count": 66,
   "metadata": {},
   "outputs": [
    {
     "name": "stdout",
     "output_type": "stream",
     "text": [
      "5.0 L; 1.25 kg\n"
     ]
    }
   ],
   "source": [
    "malt_mass = malt_mass_box.value\n",
    "print(batch_size, 'L;', malt_mass, 'kg')"
   ]
  },
  {
   "cell_type": "code",
   "execution_count": null,
   "metadata": {},
   "outputs": [],
   "source": []
  }
 ],
 "metadata": {
  "kernelspec": {
   "display_name": "Python 3",
   "language": "python",
   "name": "python3"
  },
  "language_info": {
   "codemirror_mode": {
    "name": "ipython",
    "version": 3
   },
   "file_extension": ".py",
   "mimetype": "text/x-python",
   "name": "python",
   "nbconvert_exporter": "python",
   "pygments_lexer": "ipython3",
   "version": "3.6.5"
  }
 },
 "nbformat": 4,
 "nbformat_minor": 2
}
