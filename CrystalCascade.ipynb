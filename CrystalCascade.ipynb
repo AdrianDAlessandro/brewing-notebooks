{
 "cells": [
  {
   "cell_type": "markdown",
   "metadata": {},
   "source": [
    "# Crystal Cascade\n",
    "A Sierra Nevada/Little Creatures inspired American Pale Ale"
   ]
  },
  {
   "cell_type": "markdown",
   "metadata": {},
   "source": [
    "## Recipe\n",
    "\n",
    "### Malt Bill:\n",
    " - Pilsner Malt (?EBC)\n",
    " - Australian Ale Malt (?EBC)\n",
    " - Crystal Malt (?EBC)\n",
    "\n",
    "### Hops:\n",
    " - Cascade (?Alpha Acids)"
   ]
  },
  {
   "cell_type": "markdown",
   "metadata": {},
   "source": [
    "### Calculate Water amounts\n",
    "Need functions to take in batch size and work out the amounts all the way to strike water, inculding assumptions for losses"
   ]
  },
  {
   "cell_type": "code",
   "execution_count": 9,
   "metadata": {},
   "outputs": [
    {
     "name": "stdout",
     "output_type": "stream",
     "text": [
      "Batch Size (L) = 4.5\n"
     ]
    }
   ],
   "source": [
    "batch_size =  5 # input(\"Batch Size (L) = \")"
   ]
  },
  {
   "cell_type": "code",
   "execution_count": null,
   "metadata": {},
   "outputs": [],
   "source": [
    "# This will be a module (file)\n",
    "class constants(object):\n",
    "    # Approximate rate of evaporation at boil (L/hr)\n",
    "    evap_rate = ????????????\n",
    "    # Approximate loss of volume due to grain absorption\n",
    "    grain_disp = ????????????"
   ]
  },
  {
   "cell_type": "code",
   "execution_count": null,
   "metadata": {},
   "outputs": [],
   "source": [
    "def strike_water():\n",
    "    pass\n",
    "def pre_boil_volume():\n",
    "    pass\n",
    "def post_boil_volume():\n",
    "    return pre_boil_volume() - evaporation(time)\n",
    "def evaporation(time=1):\n",
    "    \"\"\" Returns evaporation (L) for a given boil time (hrs) \"\"\"\n",
    "    return time * constants.evap_rate"
   ]
  }
 ],
 "metadata": {
  "kernelspec": {
   "display_name": "Python 3",
   "language": "python",
   "name": "python3"
  }
 },
 "nbformat": 4,
 "nbformat_minor": 2
}
